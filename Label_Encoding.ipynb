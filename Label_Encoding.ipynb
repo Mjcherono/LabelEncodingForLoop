{
  "nbformat": 4,
  "nbformat_minor": 0,
  "metadata": {
    "colab": {
      "name": "Label-Encoding.ipynb",
      "provenance": [],
      "authorship_tag": "ABX9TyPzrSWRDNdGVCWiTY0sXNdf",
      "include_colab_link": true
    },
    "kernelspec": {
      "name": "python3",
      "display_name": "Python 3"
    }
  },
  "cells": [
    {
      "cell_type": "markdown",
      "metadata": {
        "id": "view-in-github",
        "colab_type": "text"
      },
      "source": [
        "<a href=\"https://colab.research.google.com/github/Mjcherono/LabelEncodingForLoop/blob/main/Label_Encoding.ipynb\" target=\"_parent\"><img src=\"https://colab.research.google.com/assets/colab-badge.svg\" alt=\"Open In Colab\"/></a>"
      ]
    },
    {
      "cell_type": "code",
      "metadata": {
        "id": "9B20ZO6yU8DC"
      },
      "source": [
        "from sklearn.preprocessing import LabelEncoder\n",
        "\n",
        "label_object = {}\n",
        "categorical_columns = ['column names you want to labe encode']\n",
        "for col in categorical_columns:\n",
        "  labelencoder = LabelEncoder()\n",
        "  labelencoder.fit(hypothyroid[col])\n",
        "  hypothyroid[col] = labelencoder.fit_transform(hypothyroid[col])\n",
        "  label_object[col] = labelencoder"
      ],
      "execution_count": null,
      "outputs": []
    }
  ]
}